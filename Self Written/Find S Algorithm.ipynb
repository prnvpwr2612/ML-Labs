{
 "cells": [
  {
   "cell_type": "code",
   "execution_count": 2,
   "metadata": {},
   "outputs": [],
   "source": [
    "import pandas as pd"
   ]
  },
  {
   "cell_type": "code",
   "execution_count": 3,
   "metadata": {},
   "outputs": [],
   "source": [
    "data = pd.DataFrame({\n",
    "    'Sky': ['Sunny', 'Sunny', 'Rainy', 'Sunny', 'Rainy', 'Rainy', 'Sunny'],\n",
    "    'AirTemp': ['Warm', 'Warm', 'Cold', 'Warm', 'Cold', 'Cold', 'Warm'],\n",
    "    'Humidity': ['Normal', 'High', 'High', 'High', 'Normal', 'Normal', 'High'],\n",
    "    'Wind': ['Strong', 'Strong', 'Strong', 'Strong', 'Weak', 'Weak', 'Strong'],\n",
    "    'Water': ['Warm', 'Warm', 'Cold', 'Warm', 'Warm', 'Cold', 'Warm'],\n",
    "    'Forecast': ['Same', 'Same', 'Change', 'Same', 'Same', 'Change', 'Same'],\n",
    "    'EnjoySport': ['Yes', 'Yes', 'No', 'Yes', 'No', 'No', 'Yes']\n",
    "})"
   ]
  },
  {
   "cell_type": "code",
   "execution_count": 4,
   "metadata": {},
   "outputs": [
    {
     "name": "stdout",
     "output_type": "stream",
     "text": [
      "Sample Dataset:\n",
      "      Sky AirTemp Humidity    Wind Water Forecast EnjoySport\n",
      "0  Sunny    Warm   Normal  Strong  Warm     Same        Yes\n",
      "1  Sunny    Warm     High  Strong  Warm     Same        Yes\n",
      "2  Rainy    Cold     High  Strong  Cold   Change         No\n",
      "3  Sunny    Warm     High  Strong  Warm     Same        Yes\n",
      "4  Rainy    Cold   Normal    Weak  Warm     Same         No\n",
      "5  Rainy    Cold   Normal    Weak  Cold   Change         No\n",
      "6  Sunny    Warm     High  Strong  Warm     Same        Yes\n"
     ]
    }
   ],
   "source": [
    "print(\"Sample Dataset:\\n\", data)"
   ]
  },
  {
   "cell_type": "code",
   "execution_count": 5,
   "metadata": {},
   "outputs": [],
   "source": [
    "colLen = data.shape[1] - 1\n",
    "h = ['0'] * colLen\n",
    "hp = []\n",
    "hn = []"
   ]
  },
  {
   "cell_type": "code",
   "execution_count": 6,
   "metadata": {},
   "outputs": [],
   "source": [
    "for training in data.values:\n",
    "    if training[-1] == 'Yes':\n",
    "        hp.append(list(training))\n",
    "        for i in range(colLen):\n",
    "            if h[i] == '0':\n",
    "                h[i] = training[i]\n",
    "            elif h[i] != training[i]:\n",
    "                h[i] = '?'\n",
    "    else:\n",
    "        hn.append(list(training))"
   ]
  },
  {
   "cell_type": "code",
   "execution_count": 7,
   "metadata": {},
   "outputs": [
    {
     "name": "stdout",
     "output_type": "stream",
     "text": [
      "\n",
      "Positive Hypotheses (Positive Training Examples):\n",
      "     Sky AirTemp Humidity    Wind Water Forecast EnjoySport\n",
      "0  Sunny    Warm   Normal  Strong  Warm     Same        Yes\n",
      "1  Sunny    Warm     High  Strong  Warm     Same        Yes\n",
      "2  Sunny    Warm     High  Strong  Warm     Same        Yes\n",
      "3  Sunny    Warm     High  Strong  Warm     Same        Yes\n"
     ]
    }
   ],
   "source": [
    "print(\"\\nPositive Hypotheses (Positive Training Examples):\")\n",
    "print(pd.DataFrame(hp, columns=list(data.columns)))"
   ]
  },
  {
   "cell_type": "code",
   "execution_count": 8,
   "metadata": {},
   "outputs": [
    {
     "name": "stdout",
     "output_type": "stream",
     "text": [
      "\n",
      "Negative Hypotheses (Negative Training Examples):\n",
      "     Sky AirTemp Humidity    Wind Water Forecast EnjoySport\n",
      "0  Rainy    Cold     High  Strong  Cold   Change         No\n",
      "1  Rainy    Cold   Normal    Weak  Warm     Same         No\n",
      "2  Rainy    Cold   Normal    Weak  Cold   Change         No\n"
     ]
    }
   ],
   "source": [
    "print(\"\\nNegative Hypotheses (Negative Training Examples):\")\n",
    "print(pd.DataFrame(hn, columns=list(data.columns)))"
   ]
  },
  {
   "cell_type": "code",
   "execution_count": 9,
   "metadata": {},
   "outputs": [
    {
     "name": "stdout",
     "output_type": "stream",
     "text": [
      "\n",
      "Maximally Specific Hypothesis:\n",
      "['Sunny', 'Warm', '?', 'Strong', 'Warm', 'Same']\n"
     ]
    }
   ],
   "source": [
    "print(\"\\nMaximally Specific Hypothesis:\")\n",
    "print(h)"
   ]
  }
 ],
 "metadata": {
  "kernelspec": {
   "display_name": "Python 3",
   "language": "python",
   "name": "python3"
  },
  "language_info": {
   "codemirror_mode": {
    "name": "ipython",
    "version": 3
   },
   "file_extension": ".py",
   "mimetype": "text/x-python",
   "name": "python",
   "nbconvert_exporter": "python",
   "pygments_lexer": "ipython3",
   "version": "3.12.4"
  }
 },
 "nbformat": 4,
 "nbformat_minor": 2
}
