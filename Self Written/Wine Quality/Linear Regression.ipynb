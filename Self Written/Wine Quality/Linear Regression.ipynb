{
 "cells": [
  {
   "cell_type": "code",
   "execution_count": null,
   "metadata": {},
   "outputs": [],
   "source": [
    "import pandas as pd\n",
    "import matplotlib.pyplot as plt\n",
    "from sklearn.linear_model import LinearRegression\n",
    "from sklearn.model_selection import train_test_split\n",
    "from sklearn.metrics import mean_squared_error\n",
    "\n",
    "# Load the Wine Quality dataset\n",
    "wine = pd.read_csv('/content/winequality-red.csv')  \n",
    "\n",
    "X = wine[['volatile acidity']]  \n",
    "y = wine['quality']  \n",
    "\n",
    "X_train, X_test, y_train, y_test = train_test_split(X, y, test_size=0.2, random_state=42)\n",
    "\n",
    "model = LinearRegression()\n",
    "model.fit(X_train, y_train)\n",
    "\n",
    "y_pred = model.predict(X_test)\n",
    "\n",
    "plt.figure(figsize=(10, 6))\n",
    "plt.scatter(X_test, y_test, color='blue', label='Actual')\n",
    "plt.scatter(X_test, y_pred, color='red', label='Predicted', alpha=0.5)\n",
    "plt.plot(X_test, y_pred, color='orange')\n",
    "plt.title('Linear Regression on Wine Quality Dataset')\n",
    "plt.xlabel('Volatile Acidity')\n",
    "plt.ylabel('Wine Quality')\n",
    "plt.legend()\n",
    "plt.show()\n",
    "\n",
    "print(\"Mean Squared Error:\", mean_squared_error(y_test, y_pred))\n"
   ]
  }
 ],
 "metadata": {
  "language_info": {
   "name": "python"
  }
 },
 "nbformat": 4,
 "nbformat_minor": 2
}
