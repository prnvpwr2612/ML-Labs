{
  "nbformat": 4,
  "nbformat_minor": 0,
  "metadata": {
    "colab": {
      "provenance": []
    },
    "kernelspec": {
      "name": "python3",
      "display_name": "Python 3"
    },
    "language_info": {
      "name": "python"
    }
  },
  "cells": [
    {
      "cell_type": "code",
      "execution_count": 1,
      "metadata": {
        "colab": {
          "base_uri": "https://localhost:8080/"
        },
        "id": "l9rHRuZbPIWR",
        "outputId": "f04db8cb-e86e-456a-9d88-65dbbe314e5a"
      },
      "outputs": [
        {
          "output_type": "stream",
          "name": "stdout",
          "text": [
            "Final hypothesis: {'Outlook': '?', 'Temperature': '?', 'Humidity': '?', 'Wind': '?'}\n"
          ]
        }
      ],
      "source": [
        "def find_s(data):\n",
        "    hypothesis = {'Outlook': '', 'Temperature': '', 'Humidity': '', 'Wind': ''}\n",
        "\n",
        "    for example in data:\n",
        "        if example['Play Tennis'] == 'Yes':\n",
        "            for attribute in hypothesis:\n",
        "                if hypothesis[attribute] == '':\n",
        "                    hypothesis[attribute] = example[attribute]\n",
        "                elif hypothesis[attribute] != example[attribute]:\n",
        "                    hypothesis[attribute] = '?'\n",
        "\n",
        "    return hypothesis\n",
        "\n",
        "data = [\n",
        "    {'Outlook': 'Sunny', 'Temperature': 'Hot', 'Humidity': 'High', 'Wind': 'Weak', 'Play Tennis': 'No'},\n",
        "    {'Outlook': 'Sunny', 'Temperature': 'Hot', 'Humidity': 'High', 'Wind': 'Strong', 'Play Tennis': 'No'},\n",
        "    {'Outlook': 'Overcast', 'Temperature': 'Hot', 'Humidity': 'High', 'Wind': 'Weak', 'Play Tennis': 'Yes'},\n",
        "    {'Outlook': 'Rain', 'Temperature': 'Mild', 'Humidity': 'High', 'Wind': 'Weak', 'Play Tennis': 'Yes'},\n",
        "    {'Outlook': 'Rain', 'Temperature': 'Cool', 'Humidity': 'Normal', 'Wind': 'Weak', 'Play Tennis': 'Yes'},\n",
        "    {'Outlook': 'Rain', 'Temperature': 'Cool', 'Humidity': 'Normal', 'Wind': 'Strong', 'Play Tennis': 'No'},\n",
        "    {'Outlook': 'Overcast', 'Temperature': 'Cool', 'Humidity': 'Normal', 'Wind': 'Strong', 'Play Tennis': 'Yes'},\n",
        "    {'Outlook': 'Sunny', 'Temperature': 'Mild', 'Humidity': 'High', 'Wind': 'Weak', 'Play Tennis': 'No'},\n",
        "    {'Outlook': 'Sunny', 'Temperature': 'Cool', 'Humidity': 'Normal', 'Wind': 'Weak', 'Play Tennis': 'Yes'},\n",
        "    {'Outlook': 'Rain', 'Temperature': 'Mild', 'Humidity': 'Normal', 'Wind': 'Weak', 'Play Tennis': 'Yes'},\n",
        "    {'Outlook': 'Sunny', 'Temperature': 'Mild', 'Humidity': 'Normal', 'Wind': 'Strong', 'Play Tennis': 'Yes'},\n",
        "    {'Outlook': 'Overcast', 'Temperature': 'Mild', 'Humidity': 'High', 'Wind': 'Strong', 'Play Tennis': 'Yes'},\n",
        "    {'Outlook': 'Overcast', 'Temperature': 'Hot', 'Humidity': 'Normal', 'Wind': 'Weak', 'Play Tennis': 'Yes'},\n",
        "    {'Outlook': 'Rain', 'Temperature': 'Mild', 'Humidity': 'High', 'Wind': 'Strong', 'Play Tennis': 'No'}\n",
        "]\n",
        "\n",
        "hypothesis = find_s(data)\n",
        "print(\"Final hypothesis:\", hypothesis)"
      ]
    }
  ]
}